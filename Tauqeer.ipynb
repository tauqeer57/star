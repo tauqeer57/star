{
    "cells": [
        {
            "metadata": {},
            "cell_type": "markdown",
            "source": "Test project"
        },
        {
            "metadata": {},
            "cell_type": "code",
            "source": "\nimport os, types\nimport pandas as pd\nfrom botocore.client import Config\nimport ibm_boto3\n\ndef __iter__(self): return 0\n\n# @hidden_cell\n# The following code accesses a file in your IBM Cloud Object Storage. It includes your credentials.\n# You might want to remove those credentials before you share the notebook.\nclient_b7e5052ed39b40a084e97cbe33f8f8d1 = ibm_boto3.client(service_name='s3',\n    ibm_api_key_id='gItIPVYWFPdhsnL0wwjyv6Z2ymyVMRS09fIgQoG2oN-z',\n    ibm_auth_endpoint=\"https://iam.cloud.ibm.com/oidc/token\",\n    config=Config(signature_version='oauth'),\n    endpoint_url='https://s3.private.us.cloud-object-storage.appdomain.cloud')\n\nbody = client_b7e5052ed39b40a084e97cbe33f8f8d1.get_object(Bucket='star-donotdelete-pr-rawuxevyoixvd5',Key='KeepaExport-2022-08-03-ProductFinder.csv')['Body']\n# add missing __iter__ method, so pandas accepts body as file-like object\nif not hasattr(body, \"__iter__\"): body.__iter__ = types.MethodType( __iter__, body )\n\ndf_data_1 = pd.read_csv(body)\ndf_data_1.head()\n",
            "execution_count": 1,
            "outputs": [
                {
                    "output_type": "execute_result",
                    "execution_count": 1,
                    "data": {
                        "text/plain": "  Locale                                              Image  \\\n0    com  https://images-na.ssl-images-amazon.com/images...   \n1    com  https://images-na.ssl-images-amazon.com/images...   \n2    com  https://images-na.ssl-images-amazon.com/images...   \n3    com  https://images-na.ssl-images-amazon.com/images...   \n4    com  https://images-na.ssl-images-amazon.com/images...   \n\n                            URL: Amazon  \\\n0  https://www.amazon.com/dp/B071J2LSQS   \n1  https://www.amazon.com/dp/B09L68P6V7   \n2  https://www.amazon.com/dp/B07TM5FCSD   \n3  https://www.amazon.com/dp/B083DTDX7D   \n4  https://www.amazon.com/dp/B0000CE752   \n\n                                               Title        ASIN  \\\n0  hOmeLabs Portable Ice Maker Machine for Counte...  B071J2LSQS   \n1  VULNiX E27 Light Bulb Camera WiFi Outdoor Indo...  B09L68P6V7   \n2       Arctic King 7.0 cu ft Chest Freezer in Black  B07TM5FCSD   \n3  Portable Mini Folding Clothes Washing Machine,...  B083DTDX7D   \n4                                     50 Number Ones  B0000CE752   \n\n   Sales Rank: Current  Sales Rank: 90 days avg. New: 90 days avg.  \\\n0                  5.0                        33           $89.15    \n1                  6.0                       988           $20.52    \n2                 14.0                        94          $188.87    \n3                 50.0                      1422           $80.49    \n4                182.0                       402            $8.78    \n\n  New: Current  Rating: Rating  ...  Prime Eligible (Buy Box) Unnamed: 35  \\\n0       $2.00              4.4  ...                        no         NaN   \n1       $3.99              3.5  ...                        no         NaN   \n2     $200.00              4.1  ...                        no         NaN   \n3       $9.99              3.9  ...                        no         NaN   \n4       $7.69              4.8  ...                        no         NaN   \n\n   Amazon Price Wallmart Price WM Tax 10% Amz Ref Fee Tracking Fee  Cost  \\\n0           NaN            NaN        NaN         NaN          NaN   NaN   \n1           NaN            NaN        NaN         NaN          NaN   NaN   \n2           NaN            NaN        NaN         NaN          NaN   NaN   \n3           NaN            NaN        NaN         NaN          NaN   NaN   \n4           NaN            NaN        NaN         NaN          NaN   NaN   \n\n   Profit Approve For Amazon / Wallmart  \n0     NaN                           NaN  \n1     NaN                           NaN  \n2     NaN                           NaN  \n3     NaN                           NaN  \n4     NaN                           NaN  \n\n[5 rows x 44 columns]",
                        "text/html": "<div>\n<style scoped>\n    .dataframe tbody tr th:only-of-type {\n        vertical-align: middle;\n    }\n\n    .dataframe tbody tr th {\n        vertical-align: top;\n    }\n\n    .dataframe thead th {\n        text-align: right;\n    }\n</style>\n<table border=\"1\" class=\"dataframe\">\n  <thead>\n    <tr style=\"text-align: right;\">\n      <th></th>\n      <th>Locale</th>\n      <th>Image</th>\n      <th>URL: Amazon</th>\n      <th>Title</th>\n      <th>ASIN</th>\n      <th>Sales Rank: Current</th>\n      <th>Sales Rank: 90 days avg.</th>\n      <th>New: 90 days avg.</th>\n      <th>New: Current</th>\n      <th>Rating: Rating</th>\n      <th>...</th>\n      <th>Prime Eligible (Buy Box)</th>\n      <th>Unnamed: 35</th>\n      <th>Amazon Price</th>\n      <th>Wallmart Price</th>\n      <th>WM Tax 10%</th>\n      <th>Amz Ref Fee</th>\n      <th>Tracking Fee</th>\n      <th>Cost</th>\n      <th>Profit</th>\n      <th>Approve For Amazon / Wallmart</th>\n    </tr>\n  </thead>\n  <tbody>\n    <tr>\n      <th>0</th>\n      <td>com</td>\n      <td>https://images-na.ssl-images-amazon.com/images...</td>\n      <td>https://www.amazon.com/dp/B071J2LSQS</td>\n      <td>hOmeLabs Portable Ice Maker Machine for Counte...</td>\n      <td>B071J2LSQS</td>\n      <td>5.0</td>\n      <td>33</td>\n      <td>$89.15</td>\n      <td>$2.00</td>\n      <td>4.4</td>\n      <td>...</td>\n      <td>no</td>\n      <td>NaN</td>\n      <td>NaN</td>\n      <td>NaN</td>\n      <td>NaN</td>\n      <td>NaN</td>\n      <td>NaN</td>\n      <td>NaN</td>\n      <td>NaN</td>\n      <td>NaN</td>\n    </tr>\n    <tr>\n      <th>1</th>\n      <td>com</td>\n      <td>https://images-na.ssl-images-amazon.com/images...</td>\n      <td>https://www.amazon.com/dp/B09L68P6V7</td>\n      <td>VULNiX E27 Light Bulb Camera WiFi Outdoor Indo...</td>\n      <td>B09L68P6V7</td>\n      <td>6.0</td>\n      <td>988</td>\n      <td>$20.52</td>\n      <td>$3.99</td>\n      <td>3.5</td>\n      <td>...</td>\n      <td>no</td>\n      <td>NaN</td>\n      <td>NaN</td>\n      <td>NaN</td>\n      <td>NaN</td>\n      <td>NaN</td>\n      <td>NaN</td>\n      <td>NaN</td>\n      <td>NaN</td>\n      <td>NaN</td>\n    </tr>\n    <tr>\n      <th>2</th>\n      <td>com</td>\n      <td>https://images-na.ssl-images-amazon.com/images...</td>\n      <td>https://www.amazon.com/dp/B07TM5FCSD</td>\n      <td>Arctic King 7.0 cu ft Chest Freezer in Black</td>\n      <td>B07TM5FCSD</td>\n      <td>14.0</td>\n      <td>94</td>\n      <td>$188.87</td>\n      <td>$200.00</td>\n      <td>4.1</td>\n      <td>...</td>\n      <td>no</td>\n      <td>NaN</td>\n      <td>NaN</td>\n      <td>NaN</td>\n      <td>NaN</td>\n      <td>NaN</td>\n      <td>NaN</td>\n      <td>NaN</td>\n      <td>NaN</td>\n      <td>NaN</td>\n    </tr>\n    <tr>\n      <th>3</th>\n      <td>com</td>\n      <td>https://images-na.ssl-images-amazon.com/images...</td>\n      <td>https://www.amazon.com/dp/B083DTDX7D</td>\n      <td>Portable Mini Folding Clothes Washing Machine,...</td>\n      <td>B083DTDX7D</td>\n      <td>50.0</td>\n      <td>1422</td>\n      <td>$80.49</td>\n      <td>$9.99</td>\n      <td>3.9</td>\n      <td>...</td>\n      <td>no</td>\n      <td>NaN</td>\n      <td>NaN</td>\n      <td>NaN</td>\n      <td>NaN</td>\n      <td>NaN</td>\n      <td>NaN</td>\n      <td>NaN</td>\n      <td>NaN</td>\n      <td>NaN</td>\n    </tr>\n    <tr>\n      <th>4</th>\n      <td>com</td>\n      <td>https://images-na.ssl-images-amazon.com/images...</td>\n      <td>https://www.amazon.com/dp/B0000CE752</td>\n      <td>50 Number Ones</td>\n      <td>B0000CE752</td>\n      <td>182.0</td>\n      <td>402</td>\n      <td>$8.78</td>\n      <td>$7.69</td>\n      <td>4.8</td>\n      <td>...</td>\n      <td>no</td>\n      <td>NaN</td>\n      <td>NaN</td>\n      <td>NaN</td>\n      <td>NaN</td>\n      <td>NaN</td>\n      <td>NaN</td>\n      <td>NaN</td>\n      <td>NaN</td>\n      <td>NaN</td>\n    </tr>\n  </tbody>\n</table>\n<p>5 rows \u00d7 44 columns</p>\n</div>"
                    },
                    "metadata": {}
                }
            ]
        },
        {
            "metadata": {},
            "cell_type": "code",
            "source": "",
            "execution_count": null,
            "outputs": []
        }
    ],
    "metadata": {
        "kernelspec": {
            "name": "python3",
            "display_name": "Python 3.9",
            "language": "python"
        },
        "language_info": {
            "name": "python",
            "version": "3.9.12",
            "mimetype": "text/x-python",
            "codemirror_mode": {
                "name": "ipython",
                "version": 3
            },
            "pygments_lexer": "ipython3",
            "nbconvert_exporter": "python",
            "file_extension": ".py"
        }
    },
    "nbformat": 4,
    "nbformat_minor": 1
}